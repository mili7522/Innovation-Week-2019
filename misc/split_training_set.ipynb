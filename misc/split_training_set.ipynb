{
 "cells": [
  {
   "cell_type": "code",
   "execution_count": 11,
   "metadata": {},
   "outputs": [],
   "source": [
    "import os\n",
    "import pandas as pd\n",
    "import numpy as np\n",
    "from shutil import copyfile"
   ]
  },
  {
   "cell_type": "code",
   "execution_count": 9,
   "metadata": {},
   "outputs": [],
   "source": [
    "labels = '/media/mike/Files/Data and Results/innovation-challenge-2019/training-labels.csv'\n",
    "folder = '/media/mike/Files/Data and Results/innovation-challenge-2019/Train/output_combined2/'\n",
    "train_folder = '/media/mike/Files/Data and Results/innovation-challenge-2019/Train/train/'\n",
    "val_folder = '/media/mike/Files/Data and Results/innovation-challenge-2019/Train/val/'"
   ]
  },
  {
   "cell_type": "code",
   "execution_count": 12,
   "metadata": {},
   "outputs": [],
   "source": [
    "label_df = pd.read_csv(labels)"
   ]
  },
  {
   "cell_type": "code",
   "execution_count": 13,
   "metadata": {},
   "outputs": [],
   "source": [
    "gp = label_df.groupby('Drscore')"
   ]
  },
  {
   "cell_type": "code",
   "execution_count": 7,
   "metadata": {},
   "outputs": [],
   "source": [
    "for i, file in enumerate(files):\n",
    "    if i in training_index:\n",
    "        copyfile(os.path.join(folder, file), os.path.join(train_folder, file))\n",
    "    else:\n",
    "        copyfile(os.path.join(folder, file), os.path.join(val_folder, file))"
   ]
  },
  {
   "cell_type": "code",
   "execution_count": 30,
   "metadata": {},
   "outputs": [
    {
     "name": "stdout",
     "output_type": "stream",
     "text": [
      "\n",
      "0\n",
      "Training: 7876\n",
      "Validation: 1970\n",
      "\n",
      "1\n",
      "Training: 821\n",
      "Validation: 206\n",
      "\n",
      "2\n",
      "Training: 1840\n",
      "Validation: 460\n",
      "\n",
      "3\n",
      "Training: 518\n",
      "Validation: 130\n",
      "\n",
      "4\n",
      "Training: 259\n",
      "Validation: 65\n"
     ]
    }
   ],
   "source": [
    "training_index = {}\n",
    "val_index = {}\n",
    "train_val_split = 0.8  # 80% training\n",
    "\n",
    "for key, values in gp.groups.items():\n",
    "    number_of_files = len(values)\n",
    "    np.random.seed(42)\n",
    "    shuffled_index = np.random.permutation(values)\n",
    "    training_index[key] = shuffled_index[:int(number_of_files * train_val_split)]\n",
    "    val_index[key] = shuffled_index[int(number_of_files * train_val_split):]\n",
    "    print(\"\\n\" + str(key))\n",
    "    print(\"Training:\", len(training_index[key]))\n",
    "    print(\"Validation:\", len(val_index[key]))"
   ]
  },
  {
   "cell_type": "code",
   "execution_count": 34,
   "metadata": {},
   "outputs": [],
   "source": [
    "for key, values in training_index.items():\n",
    "    os.makedirs(os.path.join(train_folder, str(key)), exist_ok = True)\n",
    "    for idx in values:\n",
    "        file = label_df.loc[idx, 'Filename']\n",
    "        copyfile(os.path.join(folder, file), os.path.join(train_folder, str(key), file))"
   ]
  },
  {
   "cell_type": "code",
   "execution_count": 35,
   "metadata": {},
   "outputs": [],
   "source": [
    "for key, values in val_index.items():\n",
    "    os.makedirs(os.path.join(val_folder, str(key)), exist_ok = True)\n",
    "    for idx in values:\n",
    "        file = label_df.loc[idx, 'Filename']\n",
    "        copyfile(os.path.join(folder, file), os.path.join(val_folder, str(key), file))"
   ]
  },
  {
   "cell_type": "code",
   "execution_count": null,
   "metadata": {},
   "outputs": [],
   "source": []
  }
 ],
 "metadata": {
  "kernelspec": {
   "display_name": "Python 3",
   "language": "python",
   "name": "python3"
  },
  "language_info": {
   "codemirror_mode": {
    "name": "ipython",
    "version": 3
   },
   "file_extension": ".py",
   "mimetype": "text/x-python",
   "name": "python",
   "nbconvert_exporter": "python",
   "pygments_lexer": "ipython3",
   "version": "3.7.3"
  }
 },
 "nbformat": 4,
 "nbformat_minor": 2
}
