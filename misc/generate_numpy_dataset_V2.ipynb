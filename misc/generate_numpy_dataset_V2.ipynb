{
 "cells": [
  {
   "cell_type": "code",
   "execution_count": 1,
   "metadata": {},
   "outputs": [],
   "source": [
    "import math\n",
    "import os\n",
    "\n",
    "from PIL import Image, ImageFile\n",
    "ImageFile.LOAD_TRUNCATED_IMAGES = True\n",
    "\n",
    "import numpy as np\n",
    "import matplotlib.pyplot as plt\n",
    "import pandas as pd"
   ]
  },
  {
   "cell_type": "code",
   "execution_count": 2,
   "metadata": {},
   "outputs": [],
   "source": [
    "labels = '/home/mike/Downloads/Innovation Week 2019/training-labels.csv'\n",
    "folder = '/home/mike/Downloads/Innovation Week 2019/Train/output_combined2/'\n",
    "save_folder = '/home/mike/Downloads/Innovation Week 2019/Train/'\n",
    "test_folder = '/home/mike/Downloads/Innovation Week 2019/Test/'\n",
    "fill_type = 'crop'  # crop, pad, mix\n",
    "process_test = False\n",
    "\n",
    "# # 2015 dataset\n",
    "# labels = '/home/mike/Downloads/Innovation Week 2019/2015_data/trainLabels.csv'\n",
    "# folder = '/home/mike/Downloads/Innovation Week 2019/2015_data/Train/train/'\n",
    "# save_folder = '/home/mike/Downloads/Innovation Week 2019/2015_data/Train/'\n",
    "\n",
    "# # 2015 dataset - test\n",
    "# labels = '/home/mike/Downloads/Innovation Week 2019/2015_data/retinopathy_solution.csv'\n",
    "# folder = '/home/mike/Downloads/Innovation Week 2019/2015_data/Test/test/'\n",
    "# save_folder = '/home/mike/Downloads/Innovation Week 2019/2015_data/Test/'\n",
    "\n",
    "# # 2019 aptos dataset\n",
    "# labels = '/home/mike/Downloads/Innovation Week 2019/aptos2019_data/train.csv'\n",
    "# folder = '/home/mike/Downloads/Innovation Week 2019/aptos2019_data/Train/train/'\n",
    "# save_folder = '/home/mike/Downloads/Innovation Week 2019/aptos2019_data/Train/'"
   ]
  },
  {
   "cell_type": "code",
   "execution_count": 3,
   "metadata": {},
   "outputs": [
    {
     "data": {
      "text/html": [
       "<div>\n",
       "<style scoped>\n",
       "    .dataframe tbody tr th:only-of-type {\n",
       "        vertical-align: middle;\n",
       "    }\n",
       "\n",
       "    .dataframe tbody tr th {\n",
       "        vertical-align: top;\n",
       "    }\n",
       "\n",
       "    .dataframe thead th {\n",
       "        text-align: right;\n",
       "    }\n",
       "</style>\n",
       "<table border=\"1\" class=\"dataframe\">\n",
       "  <thead>\n",
       "    <tr style=\"text-align: right;\">\n",
       "      <th></th>\n",
       "      <th>Filename</th>\n",
       "      <th>Drscore</th>\n",
       "    </tr>\n",
       "  </thead>\n",
       "  <tbody>\n",
       "    <tr>\n",
       "      <th>0</th>\n",
       "      <td>train_image2.jpeg</td>\n",
       "      <td>0</td>\n",
       "    </tr>\n",
       "    <tr>\n",
       "      <th>1</th>\n",
       "      <td>train_image3.jpeg</td>\n",
       "      <td>0</td>\n",
       "    </tr>\n",
       "    <tr>\n",
       "      <th>2</th>\n",
       "      <td>train_image4.jpeg</td>\n",
       "      <td>0</td>\n",
       "    </tr>\n",
       "    <tr>\n",
       "      <th>3</th>\n",
       "      <td>train_image5.jpeg</td>\n",
       "      <td>0</td>\n",
       "    </tr>\n",
       "    <tr>\n",
       "      <th>4</th>\n",
       "      <td>train_image6.jpeg</td>\n",
       "      <td>0</td>\n",
       "    </tr>\n",
       "  </tbody>\n",
       "</table>\n",
       "</div>"
      ],
      "text/plain": [
       "            Filename  Drscore\n",
       "0  train_image2.jpeg        0\n",
       "1  train_image3.jpeg        0\n",
       "2  train_image4.jpeg        0\n",
       "3  train_image5.jpeg        0\n",
       "4  train_image6.jpeg        0"
      ]
     },
     "execution_count": 3,
     "metadata": {},
     "output_type": "execute_result"
    }
   ],
   "source": [
    "label_df = pd.read_csv(labels)\n",
    "label_df.head()"
   ]
  },
  {
   "cell_type": "code",
   "execution_count": 4,
   "metadata": {},
   "outputs": [],
   "source": [
    "def crop_image(im, amount_to_crop = None):\n",
    "    w, h = im.size\n",
    "    if amount_to_crop is None:\n",
    "        amount_to_crop = abs(w - h)\n",
    "    if h < w:\n",
    "        l, r = math.floor(amount_to_crop/2), math.ceil(amount_to_crop/2)\n",
    "        im = im.crop((l, 0, w-r, h))  # (left, upper, right, lower)\n",
    "    elif w < h:\n",
    "        t, b = math.floor(amount_to_crop/2), math.ceil(amount_to_crop/2)\n",
    "        im = im.crop((0, t, w, h-b))\n",
    "    return im\n",
    "\n",
    "def pad_image(im, pad_ratio = 1):\n",
    "    w, h = im.size\n",
    "    size_diff = max(w, h) - min(w, h)\n",
    "    new_size = min(w, h) + size_diff // pad_ratio  # No need to crop first\n",
    "#     if pad_ratio != 1:\n",
    "#         amount_to_crop = max(w, h) - new_size\n",
    "#         im = crop_image(im, amount_to_crop = amount_to_crop)\n",
    "#         w, h = im.size\n",
    "    new_im = Image.new('RGB', (new_size, new_size))  # Black by default\n",
    "    t = math.floor((new_size - h)/2)\n",
    "    l = math.floor((new_size - w)/2)\n",
    "    new_im.paste(im, box = (l,t))  # Upper left corner\n",
    "    return new_im\n",
    "\n",
    "def preprocess_image(image_path, fill_type = 'crop', desired_size = 224):\n",
    "    im = Image.open(image_path)\n",
    "    try:\n",
    "        if fill_type == 'crop':\n",
    "            im = crop_image(im)\n",
    "        elif fill_type == 'pad':\n",
    "            im = pad_image(im, pad_ratio = 1)\n",
    "        elif fill_type == 'mix':\n",
    "            im = pad_image(im, pad_ratio = 2)\n",
    "    except:\n",
    "        plt.imshow(im)\n",
    "        plt.show()\n",
    "    im = im.resize((desired_size, )*2, resample = Image.LANCZOS)\n",
    "    return im"
   ]
  },
  {
   "cell_type": "code",
   "execution_count": 5,
   "metadata": {},
   "outputs": [],
   "source": [
    "def update_progress(progress):\n",
    "    barLength = 50\n",
    "    progress = min(max(progress, 0), 1)\n",
    "    block = int(round(barLength * progress))\n",
    "    text = \"\\rPercent: [{0}] {1:.1f}%\".format( \"#\" * block + \"-\" * (barLength - block), progress * 100)\n",
    "    print(text, end = '', flush = True)"
   ]
  },
  {
   "cell_type": "code",
   "execution_count": null,
   "metadata": {
    "scrolled": false
   },
   "outputs": [
    {
     "name": "stdout",
     "output_type": "stream",
     "text": [
      "Files: 14145\n",
      "Percent: [############################################------] 87.6%"
     ]
    }
   ],
   "source": [
    "N = len(label_df)\n",
    "print(\"Files:\", N)\n",
    "x_train = np.empty((N, 224, 224, 3), dtype = np.uint8)\n",
    "y_train = np.empty((N,), dtype = int)\n",
    "\n",
    "i = 0\n",
    "for i in range(N):\n",
    "    file, group = label_df.loc[i]\n",
    "    if not (file.endswith('.tif') or file.endswith('.jpeg') or file.endswith('.jpg') or file.endswith('.png')):\n",
    "        if os.path.exists(os.path.join(folder, file + '.tif')):\n",
    "            file += '.tif'\n",
    "        elif os.path.exists(os.path.join(folder, file  + '.jpeg')):\n",
    "            file += '.jpeg'\n",
    "        elif os.path.exists(os.path.join(folder, file + '.jpg')):\n",
    "            file += '.jpg'\n",
    "        elif os.path.exists(os.path.join(folder, file + '.png')):\n",
    "            file += '.png'\n",
    "        else:\n",
    "            print(\"Check file extension\")\n",
    "    x_train[i, :, :, :] = preprocess_image(os.path.join(folder, file), fill_type = fill_type)\n",
    "    y_train[i] = group\n",
    "    i += 1\n",
    "    if i % 10 == 0:\n",
    "        update_progress(i / N)"
   ]
  },
  {
   "cell_type": "code",
   "execution_count": null,
   "metadata": {},
   "outputs": [],
   "source": [
    "plt.imshow(x_train[0])"
   ]
  },
  {
   "cell_type": "code",
   "execution_count": null,
   "metadata": {},
   "outputs": [],
   "source": [
    "np.save(os.path.join(save_folder, 'x_{}.npy'.format(fill_type)), x_train)"
   ]
  },
  {
   "cell_type": "code",
   "execution_count": null,
   "metadata": {},
   "outputs": [],
   "source": [
    "y_one_hot = pd.get_dummies(y_train).values\n",
    "y_train_multi = np.empty(y_one_hot.shape, dtype = int)\n",
    "y_train_multi[:, 4] = y_one_hot[:, 4]\n",
    "\n",
    "for i in range(3, -1, -1):\n",
    "    y_train_multi[:, i] = np.logical_or(y_one_hot[:, i], y_train_multi[:, i+1])\n",
    "\n",
    "print(\"Original y_train:\", y_one_hot.sum(axis=0))\n",
    "print(\"Multilabel version:\", y_train_multi.sum(axis=0))"
   ]
  },
  {
   "cell_type": "code",
   "execution_count": null,
   "metadata": {},
   "outputs": [],
   "source": [
    "np.save(os.path.join(save_folder, 'y_{}.npy'.format(fill_type)), y_one_hot)\n",
    "np.save(os.path.join(save_folder, 'y_multi_{}.npy'.format(fill_type)), y_train_multi)"
   ]
  },
  {
   "cell_type": "code",
   "execution_count": null,
   "metadata": {},
   "outputs": [],
   "source": [
    "########\n",
    "# Test set\n",
    "if process_test:\n",
    "    files = []\n",
    "    number = []\n",
    "    for f in sorted(os.listdir(os.path.join(test_folder, 'Test'))):\n",
    "        if f.endswith('.tif') or f.endswith('.jpeg') or f.endswith('.jpg'):\n",
    "            files.append(f)\n",
    "            number.append(int(f.split('.')[0][10:]))\n",
    "        else:\n",
    "            print(f)\n",
    "\n",
    "    number_dict = dict(zip(files, number))\n",
    "    files = sorted(files, key = number_dict.get)"
   ]
  },
  {
   "cell_type": "code",
   "execution_count": null,
   "metadata": {},
   "outputs": [],
   "source": [
    "if process_test:\n",
    "    N = len(files)\n",
    "    print(\"Files:\", N)\n",
    "    x_test = np.empty((N, 224, 224, 3), dtype = np.uint8)\n",
    "\n",
    "    i = 0\n",
    "    for file in files:\n",
    "        x_test[i, :, :, :] = preprocess_image(os.path.join(test_folder, 'Test', file), fill_type = fill_type)\n",
    "        i += 1\n",
    "        if i % 5 == 0:\n",
    "            update_progress(i / N)\n",
    "    \n",
    "    plt.imshow(x_test[-1])"
   ]
  },
  {
   "cell_type": "code",
   "execution_count": null,
   "metadata": {},
   "outputs": [],
   "source": [
    "if process_test:\n",
    "    np.save(os.path.join(test_folder, 'test_x_{}.npy'.format(fill_type)), x_test)\n",
    "    pd.DataFrame(files).to_csv(os.path.join(test_folder, 'test_files.csv'), index = None, header = None)"
   ]
  },
  {
   "cell_type": "code",
   "execution_count": null,
   "metadata": {},
   "outputs": [],
   "source": []
  }
 ],
 "metadata": {
  "kernelspec": {
   "display_name": "Python 3",
   "language": "python",
   "name": "python3"
  },
  "language_info": {
   "codemirror_mode": {
    "name": "ipython",
    "version": 3
   },
   "file_extension": ".py",
   "mimetype": "text/x-python",
   "name": "python",
   "nbconvert_exporter": "python",
   "pygments_lexer": "ipython3",
   "version": "3.6.5"
  }
 },
 "nbformat": 4,
 "nbformat_minor": 2
}
